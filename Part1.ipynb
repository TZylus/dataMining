{
 "cells": [
  {
   "cell_type": "markdown",
   "id": "dd73a80b",
   "metadata": {},
   "source": [
    "33574386 TAULANT KABA PART1.\n",
    "I have worked and submitted alone."
   ]
  },
  {
   "cell_type": "code",
   "execution_count": 29,
   "id": "2e149310",
   "metadata": {
    "scrolled": false
   },
   "outputs": [],
   "source": [
    "import pandas as pd\n",
    "import numpy as np\n",
    "from math import *\n",
    "from decimal import Decimal\n",
    "\n",
    "trainset = pd.read_csv(\"sonar_train.csv\")\n",
    "testset = pd.read_csv(\"sonar_test.csv\")\n"
   ]
  },
  {
   "cell_type": "code",
   "execution_count": 30,
   "id": "3cb14296",
   "metadata": {},
   "outputs": [],
   "source": [
    "\n",
    "#modify the datasets to only show labels or data (y and x respectively)\n",
    "\n",
    "x_test = testset.drop(\"Class\", axis=1)\n",
    "y_test= testset[\"Class\"]\n",
    "x_train = trainset.drop(\"Class\",axis = 1)\n",
    "y_train = trainset[\"Class\"]\n",
    "\n"
   ]
  },
  {
   "cell_type": "code",
   "execution_count": 31,
   "id": "84b4313d",
   "metadata": {},
   "outputs": [],
   "source": [
    "#calculate minkowski distance\n",
    "def minkowski_distance(x, y, p):\n",
    "    return np.sqrt(np.sum((x-y)**p))\n"
   ]
  },
  {
   "cell_type": "code",
   "execution_count": 48,
   "id": "dad72432",
   "metadata": {},
   "outputs": [],
   "source": [
    "# q = manhattan distance for this model.\n",
    "q = 1\n",
    "k = 1\n",
    "def getKNeighbors(X_test, X_train, k):\n",
    "    predictions = []\n",
    "    for i in range(len(X_test)):\n",
    "        dist = np.array([minkowski_distance(X_test[i], x_train, q) for x_train in X_train])\n",
    "        prediction = y_train[np.argmin(dist)]\n",
    "        predictions.append(prediction)\n",
    "    return predictions    \n"
   ]
  },
  {
   "cell_type": "code",
   "execution_count": 49,
   "id": "0a04cc51",
   "metadata": {
    "scrolled": true
   },
   "outputs": [
    {
     "name": "stdout",
     "output_type": "stream",
     "text": [
      "['M', 'R', 'M', 'R', 'M', 'M', 'M', 'R', 'M', 'M', 'M', 'R', 'R', 'M', 'M', 'R', 'M', 'M', 'M', 'R', 'R', 'R', 'M', 'M', 'M', 'R', 'M', 'M', 'R', 'R', 'M', 'R', 'M', 'M', 'R', 'R', 'R', 'R', 'M', 'R', 'R', 'M', 'R', 'M', 'R', 'M', 'M', 'R', 'R', 'R', 'R', 'R', 'R', 'R', 'R', 'M', 'R', 'M', 'R', 'R', 'M', 'M', 'M', 'M', 'M', 'M', 'R', 'R', 'R']\n"
     ]
    },
    {
     "name": "stderr",
     "output_type": "stream",
     "text": [
      "/Users/taulantkaba/opt/anaconda3/envs/DATAM/lib/python3.6/site-packages/ipykernel_launcher.py:3: RuntimeWarning: invalid value encountered in sqrt\n",
      "  This is separate from the ipykernel package so we can avoid doing imports until\n"
     ]
    }
   ],
   "source": [
    "\n",
    "predictions= getKNeighbors(np.array(x_test), np.array(x_train), k)\n",
    "print(predictions)\n"
   ]
  },
  {
   "cell_type": "code",
   "execution_count": 50,
   "id": "bba0bc87",
   "metadata": {},
   "outputs": [],
   "source": [
    "from sklearn.metrics import accuracy_score, precision_score, f1_score, recall_score"
   ]
  },
  {
   "cell_type": "code",
   "execution_count": 51,
   "id": "e0812d71",
   "metadata": {},
   "outputs": [
    {
     "name": "stdout",
     "output_type": "stream",
     "text": [
      "Accuracy: 0.4058\n",
      "Recall: 0.4054\n",
      "Precision: 0.4412\n",
      "F1 Score: 0.4225\n"
     ]
    }
   ],
   "source": [
    "print('Accuracy: %.4f' % accuracy_score(y_test, predictions))\n",
    "print('Recall: %.4f' % recall_score(y_test, predictions, pos_label='M'))\n",
    "print('Precision: %.4f' % precision_score(y_test, predictions, pos_label='M'))\n",
    "print('F1 Score: %.4f' % f1_score(y_test, predictions, pos_label='M'))"
   ]
  },
  {
   "cell_type": "markdown",
   "id": "3ac13533",
   "metadata": {},
   "source": [
    "We will now test q = 2 which is euclidean distance"
   ]
  },
  {
   "cell_type": "code",
   "execution_count": 52,
   "id": "9ddd9e7d",
   "metadata": {},
   "outputs": [
    {
     "name": "stdout",
     "output_type": "stream",
     "text": [
      "['R', 'M', 'M', 'R', 'R', 'M', 'M', 'M', 'M', 'M', 'R', 'R', 'R', 'R', 'M', 'M', 'M', 'R', 'M', 'M', 'M', 'R', 'R', 'R', 'R', 'M', 'R', 'R', 'M', 'M', 'M', 'M', 'M', 'R', 'M', 'M', 'M', 'M', 'M', 'R', 'R', 'M', 'M', 'M', 'M', 'R', 'R', 'M', 'R', 'R', 'M', 'R', 'R', 'M', 'M', 'R', 'M', 'R', 'M', 'M', 'R', 'M', 'M', 'R', 'M', 'M', 'M', 'M', 'M']\n"
     ]
    }
   ],
   "source": [
    "q=2\n",
    "\n",
    "predictions= getKNeighbors(np.array(x_test), np.array(x_train), k)\n",
    "print(predictions)"
   ]
  },
  {
   "cell_type": "code",
   "execution_count": 53,
   "id": "e51226c6",
   "metadata": {},
   "outputs": [
    {
     "name": "stdout",
     "output_type": "stream",
     "text": [
      "Accuracy: 0.8986\n",
      "Recall: 0.9730\n",
      "Precision: 0.8571\n",
      "F1 Score: 0.9114\n"
     ]
    }
   ],
   "source": [
    "print('Accuracy: %.4f' % accuracy_score(y_test, predictions))\n",
    "print('Recall: %.4f' % recall_score(y_test, predictions, pos_label='M'))\n",
    "print('Precision: %.4f' % precision_score(y_test, predictions, pos_label='M'))\n",
    "print('F1 Score: %.4f' % f1_score(y_test, predictions, pos_label='M'))"
   ]
  },
  {
   "cell_type": "code",
   "execution_count": null,
   "id": "294a8aa0",
   "metadata": {},
   "outputs": [],
   "source": []
  }
 ],
 "metadata": {
  "kernelspec": {
   "display_name": "Python 3",
   "language": "python",
   "name": "python3"
  },
  "language_info": {
   "codemirror_mode": {
    "name": "ipython",
    "version": 3
   },
   "file_extension": ".py",
   "mimetype": "text/x-python",
   "name": "python",
   "nbconvert_exporter": "python",
   "pygments_lexer": "ipython3",
   "version": "3.6.10"
  }
 },
 "nbformat": 4,
 "nbformat_minor": 5
}
